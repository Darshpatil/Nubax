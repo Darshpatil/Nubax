{
 "cells": [
  {
   "cell_type": "code",
   "execution_count": 1,
   "id": "485119c8",
   "metadata": {},
   "outputs": [
    {
     "name": "stdout",
     "output_type": "stream",
     "text": [
      "SQL Server\n",
      "PostgreSQL ANSI(x64)\n",
      "PostgreSQL Unicode(x64)\n",
      "PostgreSQL ANSI\n",
      "PostgreSQL Unicode\n"
     ]
    }
   ],
   "source": [
    "import psycopg2 as pg\n",
    "import pandas as pd\n",
    "import pyodbc\n",
    "\n",
    "\n",
    "for driver in pyodbc.drivers():\n",
    "    print(driver)"
   ]
  },
  {
   "cell_type": "code",
   "execution_count": 2,
   "id": "5a3af84f",
   "metadata": {},
   "outputs": [
    {
     "name": "stdout",
     "output_type": "stream",
     "text": [
      "<pyodbc.Connection object at 0x000001B65C2D2CE0>\n",
      "('8a8b803a80f204e601815d0fac8a72be', '1', 1655123717257, '9a94b542-a5ea-4dd0-94b6-ba363d5b3457', '0', '9a94b542-a5ea-4dd0-94b6-ba363d5b3457', 1655123743603, None, None, None, None, None, None, None, None, '1', 'https://s3.ap-south-1.amazonaws.com/gisfy/beneficiaries/05e52149-07af-4273-a0b1-3638dca59780_/storage/emulated/0/Android/data/com.thegoodproject/files/saved_signature/signature.png', datetime.date(1995, 8, 26), None, None, None, None, None, '9a94b542-a5ea-4dd0-94b6-ba363d5b3457', 'Manja Devisingh Kapadiya', 'Female', None, None, None, None, None, None, None, '', None, '', None, '9529593995', None, '1', 'https://s3.ap-south-1.amazonaws.com/gisfy/beneficiaries/701bf748-3ba8-492d-aa6b-6cccd92e8942_rn_image_picker_lib_temp_ccfc4efc-0dcf-4502-af00-45bb761fd753.jpg', None, None, None, None, '8a8b803a8009e46b018022d0efc90100', None, None, None, None, None, '1', None, None, None, '8a8b803a7b985a71017b9bc470440010', '8a8b803a7b985a71017b9bc470440010', datetime.datetime(2022, 6, 13, 18, 5, 44), None, None, None, None, '1234', '1', 'NONE', 'NON_MIGRANT', 'Self', None, None, 5, None, None, None, None, None, None, None, None, None, None, None)\n"
     ]
    },
    {
     "name": "stderr",
     "output_type": "stream",
     "text": [
      "C:\\Users\\Shinchan\\AppData\\Local\\Temp\\ipykernel_11152\\3628157862.py:10: DeprecationWarning: PyUnicode_FromUnicode(NULL, size) is deprecated; use PyUnicode_New() instead\n",
      "  print(i)\n",
      "C:\\Users\\Shinchan\\AppData\\Local\\Programs\\Python\\Python310\\lib\\site-packages\\pandas\\io\\sql.py:761: UserWarning: pandas only support SQLAlchemy connectable(engine/connection) ordatabase string URI or sqlite3 DBAPI2 connectionother DBAPI2 objects are not tested, please consider using SQLAlchemy\n",
      "  warnings.warn(\n"
     ]
    },
    {
     "data": {
      "text/html": [
       "<div>\n",
       "<style scoped>\n",
       "    .dataframe tbody tr th:only-of-type {\n",
       "        vertical-align: middle;\n",
       "    }\n",
       "\n",
       "    .dataframe tbody tr th {\n",
       "        vertical-align: top;\n",
       "    }\n",
       "\n",
       "    .dataframe thead th {\n",
       "        text-align: right;\n",
       "    }\n",
       "</style>\n",
       "<table border=\"1\" class=\"dataframe\">\n",
       "  <thead>\n",
       "    <tr style=\"text-align: right;\">\n",
       "      <th></th>\n",
       "      <th>id</th>\n",
       "      <th>active</th>\n",
       "      <th>created_at</th>\n",
       "      <th>created_by</th>\n",
       "      <th>deleted</th>\n",
       "      <th>last_modified_by</th>\n",
       "      <th>modified_at</th>\n",
       "      <th>age</th>\n",
       "      <th>annual_household_income</th>\n",
       "      <th>bank_account_no</th>\n",
       "      <th>...</th>\n",
       "      <th>is_migrant</th>\n",
       "      <th>referance_image_url</th>\n",
       "      <th>referance_image_url_name</th>\n",
       "      <th>user_entity_id</th>\n",
       "      <th>ftp_imported_user</th>\n",
       "      <th>diploma_passout_year</th>\n",
       "      <th>diploma_school_name</th>\n",
       "      <th>hsc_passout_year</th>\n",
       "      <th>hsc_school_name</th>\n",
       "      <th>gps_enabled</th>\n",
       "    </tr>\n",
       "  </thead>\n",
       "  <tbody>\n",
       "    <tr>\n",
       "      <th>0</th>\n",
       "      <td>8a8b803a80f204e601815d0fac8a72be</td>\n",
       "      <td>1</td>\n",
       "      <td>1655123717257</td>\n",
       "      <td>9a94b542-a5ea-4dd0-94b6-ba363d5b3457</td>\n",
       "      <td>0</td>\n",
       "      <td>9a94b542-a5ea-4dd0-94b6-ba363d5b3457</td>\n",
       "      <td>1655123743603</td>\n",
       "      <td>None</td>\n",
       "      <td>None</td>\n",
       "      <td>None</td>\n",
       "      <td>...</td>\n",
       "      <td>None</td>\n",
       "      <td>None</td>\n",
       "      <td>None</td>\n",
       "      <td>None</td>\n",
       "      <td>None</td>\n",
       "      <td>None</td>\n",
       "      <td>None</td>\n",
       "      <td>None</td>\n",
       "      <td>None</td>\n",
       "      <td>None</td>\n",
       "    </tr>\n",
       "  </tbody>\n",
       "</table>\n",
       "<p>1 rows × 81 columns</p>\n",
       "</div>"
      ],
      "text/plain": [
       "                                 id active     created_at  \\\n",
       "0  8a8b803a80f204e601815d0fac8a72be      1  1655123717257   \n",
       "\n",
       "                             created_by deleted  \\\n",
       "0  9a94b542-a5ea-4dd0-94b6-ba363d5b3457       0   \n",
       "\n",
       "                       last_modified_by    modified_at   age  \\\n",
       "0  9a94b542-a5ea-4dd0-94b6-ba363d5b3457  1655123743603  None   \n",
       "\n",
       "  annual_household_income bank_account_no  ... is_migrant referance_image_url  \\\n",
       "0                    None            None  ...       None                None   \n",
       "\n",
       "  referance_image_url_name user_entity_id ftp_imported_user  \\\n",
       "0                     None           None              None   \n",
       "\n",
       "  diploma_passout_year diploma_school_name hsc_passout_year hsc_school_name  \\\n",
       "0                 None                None             None            None   \n",
       "\n",
       "  gps_enabled  \n",
       "0        None  \n",
       "\n",
       "[1 rows x 81 columns]"
      ]
     },
     "execution_count": 2,
     "metadata": {},
     "output_type": "execute_result"
    }
   ],
   "source": [
    "cnxn = pyodbc.connect(\"DSN=PostgreSQL35W\")\n",
    "print(cnxn)\n",
    "\n",
    "cursor = cnxn.cursor()\n",
    "\n",
    "query=\"select * from beneficiaries limit 1\"\n",
    "cursor.execute(\"select * from beneficiaries limit 1\")\n",
    "for i in cursor:\n",
    "\n",
    "    print(i)\n",
    "    \n",
    "cnxn = pyodbc.connect(\"DSN=PostgreSQL35W\")\n",
    "df=pd.io.sql.read_sql(query, cnxn)\n",
    "\n",
    "df\n"
   ]
  },
  {
   "cell_type": "code",
   "execution_count": null,
   "id": "874331ad",
   "metadata": {},
   "outputs": [],
   "source": []
  }
 ],
 "metadata": {
  "kernelspec": {
   "display_name": "Python 3 (ipykernel)",
   "language": "python",
   "name": "python3"
  },
  "language_info": {
   "codemirror_mode": {
    "name": "ipython",
    "version": 3
   },
   "file_extension": ".py",
   "mimetype": "text/x-python",
   "name": "python",
   "nbconvert_exporter": "python",
   "pygments_lexer": "ipython3",
   "version": "3.10.5"
  }
 },
 "nbformat": 4,
 "nbformat_minor": 5
}
