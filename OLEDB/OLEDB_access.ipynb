{
 "cells": [
  {
   "cell_type": "code",
   "execution_count": 21,
   "id": "6d1a9eed",
   "metadata": {},
   "outputs": [
    {
     "data": {
      "text/html": [
       "<div>\n",
       "<style scoped>\n",
       "    .dataframe tbody tr th:only-of-type {\n",
       "        vertical-align: middle;\n",
       "    }\n",
       "\n",
       "    .dataframe tbody tr th {\n",
       "        vertical-align: top;\n",
       "    }\n",
       "\n",
       "    .dataframe thead th {\n",
       "        text-align: right;\n",
       "    }\n",
       "</style>\n",
       "<table border=\"1\" class=\"dataframe\">\n",
       "  <thead>\n",
       "    <tr style=\"text-align: right;\">\n",
       "      <th></th>\n",
       "      <th>id</th>\n",
       "      <th>field1</th>\n",
       "      <th>field2</th>\n",
       "      <th>field3</th>\n",
       "      <th>field4</th>\n",
       "    </tr>\n",
       "  </thead>\n",
       "  <tbody>\n",
       "    <tr>\n",
       "      <th>0</th>\n",
       "      <td>4</td>\n",
       "      <td>knm n</td>\n",
       "      <td>lmam</td>\n",
       "      <td>am,qklsm</td>\n",
       "      <td>adkl s</td>\n",
       "    </tr>\n",
       "    <tr>\n",
       "      <th>1</th>\n",
       "      <td>5</td>\n",
       "      <td>sd</td>\n",
       "      <td>s</td>\n",
       "      <td>None</td>\n",
       "      <td>s</td>\n",
       "    </tr>\n",
       "    <tr>\n",
       "      <th>2</th>\n",
       "      <td>6</td>\n",
       "      <td>s</td>\n",
       "      <td>s</td>\n",
       "      <td>s</td>\n",
       "      <td>c</td>\n",
       "    </tr>\n",
       "  </tbody>\n",
       "</table>\n",
       "</div>"
      ],
      "text/plain": [
       "  id field1 field2    field3  field4\n",
       "0  4  knm n   lmam  am,qklsm  adkl s\n",
       "1  5     sd      s      None       s\n",
       "2  6      s      s         s       c"
      ]
     },
     "execution_count": 21,
     "metadata": {},
     "output_type": "execute_result"
    }
   ],
   "source": [
    "import adodbapi as ado\n",
    "import pandas as pd\n",
    "import numpy as np\n",
    "databasename = 'C:/Users/Shinchan/Desktop/w.mdb'  \n",
    "constr = 'Provider=Microsoft.ACE.OLEDB.12.0;Data Source=%s'  % databasename \n",
    "db = ado.connect(constr)\n",
    "\n",
    "cursor=db.cursor()\n",
    "query='select * from Table1'\n",
    "\n",
    "def get_df(data):\n",
    "    ar = np.array(data.ado_results) # turn ado results into a numpy array\n",
    "    df = pd.DataFrame(ar).transpose() # create a dataframe from the array\n",
    "    df.columns = data.columnNames.keys() # set column names\n",
    "    return df\n",
    "\n",
    "\n",
    "with db.cursor() as cur:\n",
    "    cur.execute(query)\n",
    "    data = cur.fetchall()\n",
    "    df = get_df(data)\n",
    "df    \n"
   ]
  }
 ],
 "metadata": {
  "kernelspec": {
   "display_name": "Python 3 (ipykernel)",
   "language": "python",
   "name": "python3"
  },
  "language_info": {
   "codemirror_mode": {
    "name": "ipython",
    "version": 3
   },
   "file_extension": ".py",
   "mimetype": "text/x-python",
   "name": "python",
   "nbconvert_exporter": "python",
   "pygments_lexer": "ipython3",
   "version": "3.10.5"
  }
 },
 "nbformat": 4,
 "nbformat_minor": 5
}
